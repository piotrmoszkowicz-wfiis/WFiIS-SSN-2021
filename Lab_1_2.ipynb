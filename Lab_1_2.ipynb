{
 "cells": [
  {
   "cell_type": "markdown",
   "metadata": {},
   "source": [
    "# Laboratorium 1 i 2\n",
    "Celem pierwszych dwóch zajęć jest instalacja bibliotek używanych na zajęciach oraz wprowadzenie do języka python. Zajęcia będą przedstawiane w formacie notatników jupyter. Każda osoba ma możliwość używania dowolnych narzędzi i systemu operacyjnego z którymi czuje się komfortowo."
   ]
  },
  {
   "cell_type": "markdown",
   "metadata": {},
   "source": [
    "## Środowisko\n",
    "Proszę wybrać i zainstalować jedno środowisko\n",
    "### Lokalne\n",
    "Python3 może być zainstalowany przez https://www.anaconda.com/ lub bezpośrednio https://www.python.org/.\n",
    "#### Biblioteki\n",
    "Tensorflow 2 https://www.tensorflow.org/ \\\n",
    "Keras https://keras.io/\n",
    "### Zdalne\n",
    "https://colab.research.google.com jest notatnikiem jupyter w chmurze z dostępem do GPU. Wymagane konto google. Jest to najprostsze ze środowisk."
   ]
  },
  {
   "cell_type": "markdown",
   "metadata": {},
   "source": [
    "## Kurs języka python\n",
    "https://www.learnpython.org/ \\\n",
    "Proszę wykonać zadania z rozdziału Learn the Basics oraz Data Science Tutorials Numpy Arrays. Proszę zwrócić uwagę czy link nie przekierowuje na stronę polskojęzyczną."
   ]
  }
 ],
 "metadata": {
  "kernelspec": {
   "display_name": "Python 3",
   "language": "python",
   "name": "python3"
  },
  "language_info": {
   "codemirror_mode": {
    "name": "ipython",
    "version": 3
   },
   "file_extension": ".py",
   "mimetype": "text/x-python",
   "name": "python",
   "nbconvert_exporter": "python",
   "pygments_lexer": "ipython3",
   "version": "3.8.5"
  }
 },
 "nbformat": 4,
 "nbformat_minor": 4
}
